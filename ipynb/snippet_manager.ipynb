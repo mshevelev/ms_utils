{
 "cells": [
  {
   "cell_type": "code",
   "execution_count": null,
   "id": "1b544900-ec79-4d4f-a8c5-d6341078fad4",
   "metadata": {
    "execution": {
     "iopub.execute_input": "2024-02-28T03:45:10.013646Z",
     "iopub.status.busy": "2024-02-28T03:45:10.013489Z",
     "iopub.status.idle": "2024-02-28T03:45:11.368281Z",
     "shell.execute_reply": "2024-02-28T03:45:11.367798Z",
     "shell.execute_reply.started": "2024-02-28T03:45:10.013629Z"
    },
    "tags": []
   },
   "outputs": [],
   "source": [
    "import pandas as pd\n",
    "import hvplot.pandas\n",
    "\n",
    "#import bokeh; bokeh.__version__\n",
    "\n",
    "import panel as pn\n",
    "pn.extension()"
   ]
  },
  {
   "cell_type": "code",
   "execution_count": null,
   "id": "0fa5d73c-70ea-4984-9d43-af1e40a41951",
   "metadata": {
    "execution": {
     "iopub.execute_input": "2024-02-28T03:45:11.369170Z",
     "iopub.status.busy": "2024-02-28T03:45:11.369039Z",
     "iopub.status.idle": "2024-02-28T03:45:11.371874Z",
     "shell.execute_reply": "2024-02-28T03:45:11.371481Z",
     "shell.execute_reply.started": "2024-02-28T03:45:11.369157Z"
    },
    "tags": []
   },
   "outputs": [],
   "source": [
    "import sys\n",
    "sys.path.insert(0, \"/home/mshevelev/git/ms_utils\")"
   ]
  },
  {
   "cell_type": "code",
   "execution_count": null,
   "id": "d4ff7063-2ffc-428c-853d-28728a9a5c32",
   "metadata": {
    "execution": {
     "iopub.execute_input": "2024-02-28T03:45:11.372460Z",
     "iopub.status.busy": "2024-02-28T03:45:11.372350Z",
     "iopub.status.idle": "2024-02-28T03:45:11.397133Z",
     "shell.execute_reply": "2024-02-28T03:45:11.396486Z",
     "shell.execute_reply.started": "2024-02-28T03:45:11.372449Z"
    },
    "tags": []
   },
   "outputs": [],
   "source": [
    "%autoreload"
   ]
  },
  {
   "cell_type": "code",
   "execution_count": null,
   "id": "0ed2eeac-ac17-4191-a026-61ebbf10d54e",
   "metadata": {
    "execution": {
     "iopub.execute_input": "2024-02-28T03:45:11.397759Z",
     "iopub.status.busy": "2024-02-28T03:45:11.397610Z",
     "iopub.status.idle": "2024-02-28T03:45:11.413375Z",
     "shell.execute_reply": "2024-02-28T03:45:11.412857Z",
     "shell.execute_reply.started": "2024-02-28T03:45:11.397742Z"
    },
    "tags": []
   },
   "outputs": [],
   "source": [
    "from ms_utils.panel.snippet_manager import SnippetManager\n",
    "\n",
    "SNIPPET_MANAGER = SnippetManager(\"/home/mshevelev/git/snippets\").reload()"
   ]
  },
  {
   "cell_type": "code",
   "execution_count": null,
   "id": "dfae0c06-f8e2-4bac-8fb0-df4ea7d0ba1c",
   "metadata": {
    "execution": {
     "iopub.execute_input": "2024-02-28T03:45:11.432759Z",
     "iopub.status.busy": "2024-02-28T03:45:11.432539Z",
     "iopub.status.idle": "2024-02-28T03:45:11.467066Z",
     "shell.execute_reply": "2024-02-28T03:45:11.466652Z",
     "shell.execute_reply.started": "2024-02-28T03:45:11.432736Z"
    },
    "tags": []
   },
   "outputs": [],
   "source": [
    "SNIPPET_MANAGER.display()"
   ]
  },
  {
   "cell_type": "code",
   "execution_count": null,
   "id": "3c0bbe2b-965c-46e5-a81e-3647fc1d5fc9",
   "metadata": {},
   "outputs": [],
   "source": []
  }
 ],
 "metadata": {
  "kernelspec": {
   "display_name": "Python 3 (ipykernel)",
   "language": "python",
   "name": "python3"
  },
  "language_info": {
   "codemirror_mode": {
    "name": "ipython",
    "version": 3
   },
   "file_extension": ".py",
   "mimetype": "text/x-python",
   "name": "python",
   "nbconvert_exporter": "python",
   "pygments_lexer": "ipython3",
   "version": "3.11.8"
  }
 },
 "nbformat": 4,
 "nbformat_minor": 5
}
