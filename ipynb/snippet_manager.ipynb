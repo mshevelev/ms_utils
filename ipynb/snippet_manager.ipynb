{
 "cells": [
  {
   "cell_type": "code",
   "execution_count": null,
   "id": "1b544900-ec79-4d4f-a8c5-d6341078fad4",
   "metadata": {
    "execution": {
     "iopub.execute_input": "2024-02-28T03:40:58.789520Z",
     "iopub.status.busy": "2024-02-28T03:40:58.789399Z",
     "iopub.status.idle": "2024-02-28T03:41:00.201311Z",
     "shell.execute_reply": "2024-02-28T03:41:00.200834Z",
     "shell.execute_reply.started": "2024-02-28T03:40:58.789506Z"
    },
    "tags": []
   },
   "outputs": [],
   "source": [
    "import pandas as pd\n",
    "import hvplot.pandas\n",
    "\n",
    "#import bokeh; bokeh.__version__\n",
    "\n",
    "import panel as pn\n",
    "pn.extension()"
   ]
  },
  {
   "cell_type": "code",
   "execution_count": null,
   "id": "0fa5d73c-70ea-4984-9d43-af1e40a41951",
   "metadata": {
    "execution": {
     "iopub.execute_input": "2024-02-28T03:41:00.201996Z",
     "iopub.status.busy": "2024-02-28T03:41:00.201876Z",
     "iopub.status.idle": "2024-02-28T03:41:00.204638Z",
     "shell.execute_reply": "2024-02-28T03:41:00.204372Z",
     "shell.execute_reply.started": "2024-02-28T03:41:00.201982Z"
    },
    "tags": []
   },
   "outputs": [],
   "source": [
    "import sys\n",
    "sys.path.insert(0, \"/home/mshevelev/git/ms_utils\")"
   ]
  },
  {
   "cell_type": "code",
   "execution_count": null,
   "id": "d4ff7063-2ffc-428c-853d-28728a9a5c32",
   "metadata": {
    "execution": {
     "iopub.execute_input": "2024-02-28T03:41:00.205085Z",
     "iopub.status.busy": "2024-02-28T03:41:00.204983Z",
     "iopub.status.idle": "2024-02-28T03:41:00.231118Z",
     "shell.execute_reply": "2024-02-28T03:41:00.230354Z",
     "shell.execute_reply.started": "2024-02-28T03:41:00.205074Z"
    },
    "tags": []
   },
   "outputs": [],
   "source": [
    "%autoreload"
   ]
  },
  {
   "cell_type": "code",
   "execution_count": null,
   "id": "6ecaf706-caa4-4041-803c-ae14f2dcee69",
   "metadata": {
    "execution": {
     "iopub.execute_input": "2024-02-28T03:41:00.232157Z",
     "iopub.status.busy": "2024-02-28T03:41:00.232033Z",
     "iopub.status.idle": "2024-02-28T03:41:00.247006Z",
     "shell.execute_reply": "2024-02-28T03:41:00.246615Z",
     "shell.execute_reply.started": "2024-02-28T03:41:00.232144Z"
    },
    "tags": []
   },
   "outputs": [],
   "source": [
    "from ms_utils.panel.snippets_manager import SnippetManager"
   ]
  },
  {
   "cell_type": "code",
   "execution_count": null,
   "id": "841b55f0-eb50-4bdd-8bc2-acb15fe56cfb",
   "metadata": {
    "execution": {
     "iopub.execute_input": "2024-02-28T03:41:03.986340Z",
     "iopub.status.busy": "2024-02-28T03:41:03.985991Z",
     "iopub.status.idle": "2024-02-28T03:41:03.991643Z",
     "shell.execute_reply": "2024-02-28T03:41:03.991231Z",
     "shell.execute_reply.started": "2024-02-28T03:41:03.986309Z"
    },
    "tags": []
   },
   "outputs": [],
   "source": [
    "SNIPPET_MANAGER = SnippetManager(\"/home/mshevelev/git/snippets\").reload()"
   ]
  },
  {
   "cell_type": "code",
   "execution_count": null,
   "id": "dfae0c06-f8e2-4bac-8fb0-df4ea7d0ba1c",
   "metadata": {
    "execution": {
     "iopub.execute_input": "2024-02-28T03:41:04.442791Z",
     "iopub.status.busy": "2024-02-28T03:41:04.442499Z",
     "iopub.status.idle": "2024-02-28T03:41:04.501019Z",
     "shell.execute_reply": "2024-02-28T03:41:04.500594Z",
     "shell.execute_reply.started": "2024-02-28T03:41:04.442765Z"
    },
    "tags": []
   },
   "outputs": [],
   "source": [
    "SNIPPET_MANAGER.display()"
   ]
  },
  {
   "cell_type": "code",
   "execution_count": null,
   "id": "3c0bbe2b-965c-46e5-a81e-3647fc1d5fc9",
   "metadata": {},
   "outputs": [],
   "source": []
  }
 ],
 "metadata": {
  "kernelspec": {
   "display_name": "Python 3 (ipykernel)",
   "language": "python",
   "name": "python3"
  },
  "language_info": {
   "codemirror_mode": {
    "name": "ipython",
    "version": 3
   },
   "file_extension": ".py",
   "mimetype": "text/x-python",
   "name": "python",
   "nbconvert_exporter": "python",
   "pygments_lexer": "ipython3",
   "version": "3.11.8"
  }
 },
 "nbformat": 4,
 "nbformat_minor": 5
}
