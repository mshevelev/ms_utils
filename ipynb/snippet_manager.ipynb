{
 "cells": [
  {
   "cell_type": "code",
   "execution_count": null,
   "id": "1b544900-ec79-4d4f-a8c5-d6341078fad4",
   "metadata": {
    "execution": {
     "iopub.execute_input": "2024-02-28T03:45:10.013646Z",
     "iopub.status.busy": "2024-02-28T03:45:10.013489Z",
     "iopub.status.idle": "2024-02-28T03:45:11.368281Z",
     "shell.execute_reply": "2024-02-28T03:45:11.367798Z",
     "shell.execute_reply.started": "2024-02-28T03:45:10.013629Z"
    },
    "tags": []
   },
   "outputs": [],
   "source": [
    "import pandas as pd\n",
    "import hvplot.pandas\n",
    "\n",
    "#import bokeh; bokeh.__version__\n",
    "\n",
    "import panel as pn\n",
    "pn.extension()"
   ]
  },
  {
   "cell_type": "code",
   "execution_count": null,
   "id": "af2a4797-3c33-40c1-9e93-4ef2d3d25923",
   "metadata": {
    "execution": {
     "iopub.execute_input": "2024-02-28T03:45:11.369170Z",
     "iopub.status.busy": "2024-02-28T03:45:11.369039Z",
     "iopub.status.idle": "2024-02-28T03:45:11.371874Z",
     "shell.execute_reply": "2024-02-28T03:45:11.371481Z",
     "shell.execute_reply.started": "2024-02-28T03:45:11.369157Z"
    },
    "tags": []
   },
   "outputs": [],
   "source": [
    "import sys\n",
    "sys.path.insert(0, \"/home/mshevelev/git/ms_utils\")\n",
    "\n",
    "from ms_utils.panel.snippet_manager import SnippetManager\n",
    "SNIPPET_MANAGER = SnippetManager(\"/home/mshevelev/git/snippets\")"
   ]
  },
  {
   "cell_type": "code",
   "execution_count": null,
   "id": "dfae0c06-f8e2-4bac-8fb0-df4ea7d0ba1c",
   "metadata": {
    "execution": {
     "iopub.execute_input": "2024-02-28T03:45:11.432759Z",
     "iopub.status.busy": "2024-02-28T03:45:11.432539Z",
     "iopub.status.idle": "2024-02-28T03:45:11.467066Z",
     "shell.execute_reply": "2024-02-28T03:45:11.466652Z",
     "shell.execute_reply.started": "2024-02-28T03:45:11.432736Z"
    },
    "tags": []
   },
   "outputs": [],
   "source": [
    "SNIPPET_MANAGER.display()"
   ]
  },
  {
   "cell_type": "code",
   "execution_count": null,
   "id": "3c0bbe2b-965c-46e5-a81e-3647fc1d5fc9",
   "metadata": {},
   "outputs": [],
   "source": []
  }
 ],
 "metadata": {
  "kernelspec": {
   "display_name": "Python 3 (ipykernel)",
   "language": "python",
   "name": "python3"
  },
  "language_info": {
   "codemirror_mode": {
    "name": "ipython",
    "version": 3
   },
   "file_extension": ".py",
   "mimetype": "text/x-python",
   "name": "python",
   "nbconvert_exporter": "python",
   "pygments_lexer": "ipython3",
   "version": "3.11.8"
  }
 },
 "nbformat": 4,
 "nbformat_minor": 5
}
