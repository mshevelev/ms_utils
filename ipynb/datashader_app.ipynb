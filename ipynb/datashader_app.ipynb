{
 "cells": [
  {
   "cell_type": "code",
   "execution_count": null,
   "id": "d31f91ea-641f-45fe-b347-62b7c98d8013",
   "metadata": {
    "execution": {
     "iopub.execute_input": "2024-03-07T05:18:30.804144Z",
     "iopub.status.busy": "2024-03-07T05:18:30.803484Z",
     "iopub.status.idle": "2024-03-07T05:18:31.687444Z",
     "shell.execute_reply": "2024-03-07T05:18:31.687032Z",
     "shell.execute_reply.started": "2024-03-07T05:18:30.804077Z"
    },
    "tags": []
   },
   "outputs": [],
   "source": [
    "%run /home/mshevelev/.snippets.py"
   ]
  },
  {
   "cell_type": "code",
   "execution_count": null,
   "id": "9a5ec596-ac26-4d61-8513-782e20e1832d",
   "metadata": {
    "execution": {
     "iopub.execute_input": "2024-03-07T05:18:31.688181Z",
     "iopub.status.busy": "2024-03-07T05:18:31.688003Z",
     "iopub.status.idle": "2024-03-07T05:18:32.733371Z",
     "shell.execute_reply": "2024-03-07T05:18:32.732757Z",
     "shell.execute_reply.started": "2024-03-07T05:18:31.688166Z"
    },
    "tags": []
   },
   "outputs": [],
   "source": [
    "# @tags: import, init, basic\n",
    "\n",
    "import os, sys, shutil, psutil, re, warnings, json\n",
    "from glob import glob\n",
    "\n",
    "\n",
    "import numpy as np\n",
    "import pandas as pd\n",
    "import xarray as xr\n",
    "import scipy.stats\n",
    "from statsmodels import api as sma\n",
    "\n",
    "import holoviews as hv\n",
    "import hvplot.pandas\n",
    "import hvplot.xarray\n",
    "\n",
    "for local_package in ('/home/mshevelev/git/ms_utils', ):\n",
    "  if local_package not in sys.path:\n",
    "    sys.path.insert(0, local_package)\n",
    "import ms_utils; print(f\"{ms_utils.__path__}\")\n"
   ]
  },
  {
   "cell_type": "code",
   "execution_count": null,
   "id": "7d51ec10-f2cd-4d8f-a35e-6a992ce48f25",
   "metadata": {
    "execution": {
     "iopub.execute_input": "2024-03-07T05:18:32.733832Z",
     "iopub.status.busy": "2024-03-07T05:18:32.733713Z",
     "iopub.status.idle": "2024-03-07T05:18:32.767805Z",
     "shell.execute_reply": "2024-03-07T05:18:32.767262Z",
     "shell.execute_reply.started": "2024-03-07T05:18:32.733820Z"
    },
    "tags": []
   },
   "outputs": [],
   "source": [
    "from ms_utils.holoviews.settings import apply_defaults\n",
    "apply_defaults()"
   ]
  },
  {
   "cell_type": "code",
   "execution_count": null,
   "id": "6228e743-d951-4a39-9539-2d7cc832c3eb",
   "metadata": {
    "execution": {
     "iopub.execute_input": "2024-03-07T05:18:32.768890Z",
     "iopub.status.busy": "2024-03-07T05:18:32.768756Z",
     "iopub.status.idle": "2024-03-07T05:18:32.782062Z",
     "shell.execute_reply": "2024-03-07T05:18:32.781622Z",
     "shell.execute_reply.started": "2024-03-07T05:18:32.768876Z"
    },
    "tags": []
   },
   "outputs": [],
   "source": [
    "%autoreload"
   ]
  },
  {
   "cell_type": "code",
   "execution_count": null,
   "id": "d2653256-b7ee-401f-bf55-0ea4da0da971",
   "metadata": {
    "execution": {
     "iopub.execute_input": "2024-03-07T05:18:32.782456Z",
     "iopub.status.busy": "2024-03-07T05:18:32.782350Z",
     "iopub.status.idle": "2024-03-07T05:18:32.785034Z",
     "shell.execute_reply": "2024-03-07T05:18:32.784560Z",
     "shell.execute_reply.started": "2024-03-07T05:18:32.782443Z"
    },
    "tags": []
   },
   "outputs": [],
   "source": [
    "import panel as pn\n"
   ]
  },
  {
   "cell_type": "code",
   "execution_count": null,
   "id": "115d980b-7773-4e64-aa12-864f2d5e2c2b",
   "metadata": {
    "execution": {
     "iopub.execute_input": "2024-03-07T05:18:32.785545Z",
     "iopub.status.busy": "2024-03-07T05:18:32.785440Z",
     "iopub.status.idle": "2024-03-07T05:18:33.163385Z",
     "shell.execute_reply": "2024-03-07T05:18:33.162713Z",
     "shell.execute_reply.started": "2024-03-07T05:18:32.785534Z"
    },
    "tags": []
   },
   "outputs": [],
   "source": [
    "import ms_utils.panel.datashader_scatterplot"
   ]
  },
  {
   "cell_type": "code",
   "execution_count": null,
   "id": "bd28cb3c-3ba5-4eb7-b7b7-35059644fa0f",
   "metadata": {
    "execution": {
     "iopub.execute_input": "2024-03-07T05:18:33.163957Z",
     "iopub.status.busy": "2024-03-07T05:18:33.163841Z",
     "iopub.status.idle": "2024-03-07T05:18:33.167331Z",
     "shell.execute_reply": "2024-03-07T05:18:33.166908Z",
     "shell.execute_reply.started": "2024-03-07T05:18:33.163945Z"
    },
    "tags": []
   },
   "outputs": [],
   "source": [
    "X = np.random.randn(10_000, 3)\n",
    "X[:, 2] = X[:, 0] + 2*X[:, 1]\n",
    "#X[10,0] = 10\n",
    "X[15,1] = -8\n",
    "X[23,1] = -6\n",
    "\n",
    "df = pd.DataFrame(X, columns=list('abc'))"
   ]
  },
  {
   "cell_type": "code",
   "execution_count": null,
   "id": "15772091-90c1-49ac-95ca-92149b57f2a0",
   "metadata": {},
   "outputs": [],
   "source": []
  },
  {
   "cell_type": "code",
   "execution_count": null,
   "id": "06ca1f9c-32d1-4eaa-b599-3fed0eacc245",
   "metadata": {
    "execution": {
     "iopub.execute_input": "2024-03-07T05:18:33.221919Z",
     "iopub.status.busy": "2024-03-07T05:18:33.221681Z",
     "iopub.status.idle": "2024-03-07T05:18:35.551608Z",
     "shell.execute_reply": "2024-03-07T05:18:35.551278Z",
     "shell.execute_reply.started": "2024-03-07T05:18:33.221901Z"
    },
    "tags": []
   },
   "outputs": [],
   "source": [
    "scatter_plot_panel = ms_utils.panel.datashader_scatterplot.ScatterPlot(df=df, name='aa')\n",
    "#scatter_plot_panel.plot_scatter()\n",
    "pn.Row(scatter_plot_panel.return_controls, scatter_plot_panel.plot_scatter)"
   ]
  },
  {
   "cell_type": "code",
   "execution_count": null,
   "id": "f4f2e855-aa75-414e-bf93-87022bccd413",
   "metadata": {},
   "outputs": [],
   "source": []
  }
 ],
 "metadata": {
  "kernelspec": {
   "display_name": "Python 3 (ipykernel)",
   "language": "python",
   "name": "python3"
  },
  "language_info": {
   "codemirror_mode": {
    "name": "ipython",
    "version": 3
   },
   "file_extension": ".py",
   "mimetype": "text/x-python",
   "name": "python",
   "nbconvert_exporter": "python",
   "pygments_lexer": "ipython3",
   "version": "3.11.9"
  }
 },
 "nbformat": 4,
 "nbformat_minor": 5
}
